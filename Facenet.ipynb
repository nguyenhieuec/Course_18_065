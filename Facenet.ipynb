{
  "nbformat": 4,
  "nbformat_minor": 0,
  "metadata": {
    "colab": {
      "name": "Facenet.ipynb",
      "provenance": [],
      "collapsed_sections": [],
      "include_colab_link": true
    },
    "kernelspec": {
      "name": "python3",
      "display_name": "Python 3"
    },
    "accelerator": "GPU"
  },
  "cells": [
    {
      "cell_type": "markdown",
      "metadata": {
        "id": "view-in-github",
        "colab_type": "text"
      },
      "source": [
        "<a href=\"https://colab.research.google.com/github/nguyenhieuec/Course_18_065/blob/master/Facenet.ipynb\" target=\"_parent\"><img src=\"https://colab.research.google.com/assets/colab-badge.svg\" alt=\"Open In Colab\"/></a>"
      ]
    },
    {
      "cell_type": "code",
      "metadata": {
        "id": "OJEybTD6AoKk",
        "colab_type": "code",
        "outputId": "fc36c508-d272-4505-e132-163830f5c0ec",
        "colab": {
          "base_uri": "https://localhost:8080/",
          "height": 955
        }
      },
      "source": [
        "from google.colab import drive\n",
        "import os\n",
        "\n",
        "drive.mount(\"/content/gdrive\")\n",
        "path = \"/content/gdrive/My Drive/Colab Notebooks\"\n",
        "os.chdir(path) #succeed\n",
        "!ls"
      ],
      "execution_count": 1,
      "outputs": [
        {
          "output_type": "stream",
          "text": [
            "Go to this URL in a browser: https://accounts.google.com/o/oauth2/auth?client_id=947318989803-6bn6qk8qdgf4n4g3pfee6491hc0brc4i.apps.googleusercontent.com&redirect_uri=urn%3aietf%3awg%3aoauth%3a2.0%3aoob&response_type=code&scope=email%20https%3a%2f%2fwww.googleapis.com%2fauth%2fdocs.test%20https%3a%2f%2fwww.googleapis.com%2fauth%2fdrive%20https%3a%2f%2fwww.googleapis.com%2fauth%2fdrive.photos.readonly%20https%3a%2f%2fwww.googleapis.com%2fauth%2fpeopleapi.readonly\n",
            "\n",
            "Enter your authorization code:\n",
            "··········\n",
            "Mounted at /content/gdrive\n",
            "'advanced stat 30 10 2019.ipynb'\n",
            "'advanced stat Metropolis Hasting method.ipynb'\n",
            "'Bayes inference.ipynb'\n",
            "'Bert sentiment stock.ipynb'\n",
            "'Copy of 00_notebook_tutorial.ipynb'\n",
            "'Copy of Algo-backtesting-zipline.ipynb'\n",
            "'Copy of Algotrading_Datasources.ipynb'\n",
            "'Copy of Algotrading_Processing Data.ipynb'\n",
            "'Copy of Cgan_mnist.ipynb'\n",
            "'Copy of Detectron2 Tutorial.ipynb'\n",
            "'Copy of em_assignment.ipynb'\n",
            "'Copy of gp_assignment.ipynb'\n",
            "'Copy of mcmc_assignment.ipynb'\n",
            "'Copy of TP1Jvn.ipynb'\n",
            "'Copy of working Ch1_Introduction_TFP (1).ipynb'\n",
            "'Copy of working Ch1_Introduction_TFP.ipynb'\n",
            "'--- Crawl content from urls.ipynb'\n",
            "'Crawl content from urls.ipynb'\n",
            " Dataset\n",
            " embed_blob_faces.pkl\n",
            " E-Q1633_R-63911_NguyenVuTrungHieu_ver1.ipynb\n",
            " faces.pkl\n",
            " from_darknet.ipynb\n",
            "'Gibbs sampling 30 10 2019.ipynb'\n",
            "'Greedy algorithm in trading .ipynb'\n",
            "'Hieu Nguyen - Assignment 02: Unsupervised Learning.ipynb'\n",
            " hieunguyen_qcf_2018_TP1JVN.ipynb\n",
            " hieunguyen_qcf_2018_TP2JVN\n",
            " id_test.pkl\n",
            " id_train.pkl\n",
            " images_file.pkl\n",
            " JKA_F.ipynb\n",
            " JKA.ipynb\n",
            " lab1.ipynb\n",
            "'Macroeconomic final.ipynb'\n",
            " Macroeconomic.ipynb\n",
            " macroeconomic_project_groupA.ipynb\n",
            " mlbootcamp20190810.ipynb\n",
            " model\n",
            "'Practical Machine Learning.ipynb'\n",
            "'Report notebook.ipynb'\n",
            " Seeknewsalpha.ipynb\n",
            "'Simpsons VIS.ipynb'\n",
            "'Trading stock with news v2.ipynb'\n",
            " Untitled\n",
            " Untitled0.ipynb\n",
            " Untitled1.ipynb\n",
            " Untitled2.ipynb\n",
            " y_labels.pkl\n"
          ],
          "name": "stdout"
        }
      ]
    },
    {
      "cell_type": "code",
      "metadata": {
        "id": "7SL26eJABnFV",
        "colab_type": "code",
        "outputId": "5311b45d-feb4-47d4-f75c-54a639857366",
        "colab": {
          "base_uri": "https://localhost:8080/",
          "height": 289
        }
      },
      "source": [
        "!pip install face_recognition"
      ],
      "execution_count": 2,
      "outputs": [
        {
          "output_type": "stream",
          "text": [
            "Collecting face_recognition\n",
            "  Downloading https://files.pythonhosted.org/packages/1e/95/f6c9330f54ab07bfa032bf3715c12455a381083125d8880c43cbe76bb3d0/face_recognition-1.3.0-py2.py3-none-any.whl\n",
            "Requirement already satisfied: numpy in /usr/local/lib/python3.6/dist-packages (from face_recognition) (1.18.2)\n",
            "Requirement already satisfied: Click>=6.0 in /usr/local/lib/python3.6/dist-packages (from face_recognition) (7.1.1)\n",
            "Requirement already satisfied: dlib>=19.7 in /usr/local/lib/python3.6/dist-packages (from face_recognition) (19.18.0)\n",
            "Requirement already satisfied: Pillow in /usr/local/lib/python3.6/dist-packages (from face_recognition) (7.0.0)\n",
            "Collecting face-recognition-models>=0.3.0\n",
            "\u001b[?25l  Downloading https://files.pythonhosted.org/packages/cf/3b/4fd8c534f6c0d1b80ce0973d01331525538045084c73c153ee6df20224cf/face_recognition_models-0.3.0.tar.gz (100.1MB)\n",
            "\u001b[K     |████████████████████████████████| 100.2MB 100kB/s \n",
            "\u001b[?25hBuilding wheels for collected packages: face-recognition-models\n",
            "  Building wheel for face-recognition-models (setup.py) ... \u001b[?25l\u001b[?25hdone\n",
            "  Created wheel for face-recognition-models: filename=face_recognition_models-0.3.0-py2.py3-none-any.whl size=100566172 sha256=cb2f5f61f1e81f8e6dddbaf70b183cc989ee32f992667dab9067ef7cccf71fe2\n",
            "  Stored in directory: /root/.cache/pip/wheels/d2/99/18/59c6c8f01e39810415c0e63f5bede7d83dfb0ffc039865465f\n",
            "Successfully built face-recognition-models\n",
            "Installing collected packages: face-recognition-models, face-recognition\n",
            "Successfully installed face-recognition-1.3.0 face-recognition-models-0.3.0\n"
          ],
          "name": "stdout"
        }
      ]
    },
    {
      "cell_type": "code",
      "metadata": {
        "id": "mfU_-XthBo-M",
        "colab_type": "code",
        "outputId": "324894de-388f-4c87-e15b-5dd051b038bc",
        "colab": {
          "base_uri": "https://localhost:8080/",
          "height": 34
        }
      },
      "source": [
        "!pwd "
      ],
      "execution_count": 3,
      "outputs": [
        {
          "output_type": "stream",
          "text": [
            "/content/gdrive/My Drive/Colab Notebooks\n"
          ],
          "name": "stdout"
        }
      ]
    },
    {
      "cell_type": "code",
      "metadata": {
        "id": "weq4RPzVCJNq",
        "colab_type": "code",
        "outputId": "f003f8c5-6786-40d4-b160-bf571e6cd9da",
        "colab": {
          "base_uri": "https://localhost:8080/",
          "height": 34
        }
      },
      "source": [
        "!git clone https://github.com/phamdinhkhanh/FacenetDataset.git ./Dataset"
      ],
      "execution_count": 4,
      "outputs": [
        {
          "output_type": "stream",
          "text": [
            "fatal: destination path './Dataset' already exists and is not an empty directory.\n"
          ],
          "name": "stdout"
        }
      ]
    },
    {
      "cell_type": "code",
      "metadata": {
        "id": "TlS4x5BDDfFR",
        "colab_type": "code",
        "outputId": "c9bb8e2b-9e8b-4a8e-f1af-6201ca4be555",
        "colab": {
          "base_uri": "https://localhost:8080/",
          "height": 34
        }
      },
      "source": [
        "!git clone https://github.com/phamdinhkhanh/khanhBlogTurtorial.git ./model"
      ],
      "execution_count": 5,
      "outputs": [
        {
          "output_type": "stream",
          "text": [
            "fatal: destination path './model' already exists and is not an empty directory.\n"
          ],
          "name": "stdout"
        }
      ]
    },
    {
      "cell_type": "code",
      "metadata": {
        "id": "jVgohB69GJuh",
        "colab_type": "code",
        "colab": {}
      },
      "source": [
        ""
      ],
      "execution_count": 0,
      "outputs": []
    },
    {
      "cell_type": "code",
      "metadata": {
        "id": "3iV9DVOZCMiE",
        "colab_type": "code",
        "outputId": "0a960037-c18e-4013-8fa6-ae0289867e58",
        "colab": {
          "base_uri": "https://localhost:8080/",
          "height": 850
        }
      },
      "source": [
        "!ls"
      ],
      "execution_count": 6,
      "outputs": [
        {
          "output_type": "stream",
          "text": [
            "'advanced stat 30 10 2019.ipynb'\n",
            "'advanced stat Metropolis Hasting method.ipynb'\n",
            "'Bayes inference.ipynb'\n",
            "'Bert sentiment stock.ipynb'\n",
            "'Copy of 00_notebook_tutorial.ipynb'\n",
            "'Copy of Algo-backtesting-zipline.ipynb'\n",
            "'Copy of Algotrading_Datasources.ipynb'\n",
            "'Copy of Algotrading_Processing Data.ipynb'\n",
            "'Copy of Cgan_mnist.ipynb'\n",
            "'Copy of Detectron2 Tutorial.ipynb'\n",
            "'Copy of em_assignment.ipynb'\n",
            "'Copy of gp_assignment.ipynb'\n",
            "'Copy of mcmc_assignment.ipynb'\n",
            "'Copy of TP1Jvn.ipynb'\n",
            "'Copy of working Ch1_Introduction_TFP (1).ipynb'\n",
            "'Copy of working Ch1_Introduction_TFP.ipynb'\n",
            "'--- Crawl content from urls.ipynb'\n",
            "'Crawl content from urls.ipynb'\n",
            " Dataset\n",
            " embed_blob_faces.pkl\n",
            " E-Q1633_R-63911_NguyenVuTrungHieu_ver1.ipynb\n",
            " faces.pkl\n",
            " from_darknet.ipynb\n",
            "'Gibbs sampling 30 10 2019.ipynb'\n",
            "'Greedy algorithm in trading .ipynb'\n",
            "'Hieu Nguyen - Assignment 02: Unsupervised Learning.ipynb'\n",
            " hieunguyen_qcf_2018_TP1JVN.ipynb\n",
            " hieunguyen_qcf_2018_TP2JVN\n",
            " id_test.pkl\n",
            " id_train.pkl\n",
            " images_file.pkl\n",
            " JKA_F.ipynb\n",
            " JKA.ipynb\n",
            " lab1.ipynb\n",
            "'Macroeconomic final.ipynb'\n",
            " Macroeconomic.ipynb\n",
            " macroeconomic_project_groupA.ipynb\n",
            " mlbootcamp20190810.ipynb\n",
            " model\n",
            "'Practical Machine Learning.ipynb'\n",
            "'Report notebook.ipynb'\n",
            " Seeknewsalpha.ipynb\n",
            "'Simpsons VIS.ipynb'\n",
            "'Trading stock with news v2.ipynb'\n",
            " Untitled\n",
            " Untitled0.ipynb\n",
            " Untitled1.ipynb\n",
            " Untitled2.ipynb\n",
            " y_labels.pkl\n"
          ],
          "name": "stdout"
        }
      ]
    },
    {
      "cell_type": "code",
      "metadata": {
        "id": "Dm7-9mwzCZSo",
        "colab_type": "code",
        "colab": {}
      },
      "source": [
        "# Hàm load model\n",
        "## Load model từ Caffe\n",
        "import cv2\n",
        "import os\n",
        "import numpy as np\n",
        "\n",
        "\n",
        "EMBEDDING_FL = \"/content/gdrive/My Drive/Colab Notebooks/model/facenet/nn4.small2.v1.t7\"\n",
        "DATASET_PATH = \"/content/gdrive/My Drive/Colab Notebooks/Dataset\"\n",
        "\n",
        "def _load_torch(model_path_fl):\n",
        "  \"\"\"\n",
        "  model_path_fl: Link file chứa weigth của model\n",
        "  \"\"\"\n",
        "  model = cv2.dnn.readNetFromTorch(model_path_fl)\n",
        "  return model"
      ],
      "execution_count": 0,
      "outputs": []
    },
    {
      "cell_type": "code",
      "metadata": {
        "id": "mXCqb1wxCb7x",
        "colab_type": "code",
        "colab": {}
      },
      "source": [
        "encoder = _load_torch(EMBEDDING_FL)"
      ],
      "execution_count": 0,
      "outputs": []
    },
    {
      "cell_type": "code",
      "metadata": {
        "id": "sqbmwrgJFI7c",
        "colab_type": "code",
        "colab": {}
      },
      "source": [
        "import cv2\n",
        "\n",
        "def _blobImage(image, out_size = (300, 300), scaleFactor = 1.0, mean = (104.0, 177.0, 123.0)):\n",
        "  \"\"\"\n",
        "  input:\n",
        "    image: ma trận RGB của ảnh input\n",
        "    out_size: kích thước ảnh blob\n",
        "  return:\n",
        "    imageBlob: ảnh blob\n",
        "  \"\"\"\n",
        "  # Chuyển sang blobImage để tránh ảnh bị nhiễu sáng\n",
        "  imageBlob = cv2.dnn.blobFromImage(image, \n",
        "                                    scalefactor=scaleFactor,   # Scale image\n",
        "                                    size=out_size,  # Output shape\n",
        "                                    mean=mean,  # Trung bình kênh theo RGB\n",
        "                                    swapRB=False,  # Trường hợp ảnh là BGR thì set bằng True để chuyển qua RGB\n",
        "                                    crop=False)\n",
        "  return imageBlob"
      ],
      "execution_count": 0,
      "outputs": []
    },
    {
      "cell_type": "code",
      "metadata": {
        "id": "PvvK-JxuFMPi",
        "colab_type": "code",
        "colab": {}
      },
      "source": [
        "from face_recognition import face_locations\n",
        "import matplotlib.pyplot as plt\n",
        "\n",
        "IMAGE_TEST = os.path.join(path, \"Dataset/khanh/001.jpg\")\n",
        "\n",
        "def _image_read(image_path):\n",
        "  \"\"\"\n",
        "  input:\n",
        "    image_path: link file ảnh\n",
        "  return:\n",
        "    image: numpy array của ảnh\n",
        "  \"\"\"\n",
        "  image = cv2.imread(image_path)\n",
        "  image = cv2.cvtColor(image, cv2.COLOR_BGR2RGB)\n",
        "  return image\n",
        "\n",
        "\n",
        "image = _image_read(IMAGE_TEST)\n",
        "\n",
        "def _extract_bbox(image, single = True):\n",
        "  \"\"\"\n",
        "  Trích xuất ra tọa độ của face từ ảnh input\n",
        "  input:\n",
        "    image: ảnh input theo kênh RGB. \n",
        "    single: Lấy ra 1 face trên 1 bức ảnh nếu True hoặc nhiều faces nếu False. Mặc định True.\n",
        "  return:\n",
        "    bbox: Tọa độ của bbox: <start_Y>, <start_X>, <end_Y>, <end_X>\n",
        "  \"\"\"\n",
        "  bboxs = face_locations(image)\n",
        "  if len(bboxs)==0:\n",
        "    return None\n",
        "  if single:\n",
        "    bbox = bboxs[0]\n",
        "    return bbox\n",
        "  else:\n",
        "    return bboxs"
      ],
      "execution_count": 0,
      "outputs": []
    },
    {
      "cell_type": "code",
      "metadata": {
        "id": "ogDwIPogGMFT",
        "colab_type": "code",
        "outputId": "bcd634ec-44df-4d48-c8c8-36a4910acd38",
        "colab": {
          "base_uri": "https://localhost:8080/",
          "height": 265
        }
      },
      "source": [
        "def _extract_face(image, bbox, face_scale_thres = (20, 20)):\n",
        "  \"\"\"\n",
        "  input:\n",
        "    image: ma trận RGB ảnh đầu vào\n",
        "    bbox: tọa độ của ảnh input\n",
        "    face_scale_thres: ngưỡng kích thước (h, w) của face. Nếu nhỏ hơn ngưỡng này thì loại bỏ face\n",
        "  return:\n",
        "    face: ma trận RGB ảnh khuôn mặt được trích xuất từ image input.\n",
        "  \"\"\"\n",
        "  h, w = image.shape[:2]\n",
        "  try:\n",
        "    (startY, startX, endY, endX) = bbox\n",
        "  except:\n",
        "    return None\n",
        "  minX, maxX = min(startX, endX), max(startX, endX)\n",
        "  minY, maxY = min(startY, endY), max(startY, endY)\n",
        "  face = image[minY:maxY, minX:maxX].copy()\n",
        "  # extract the face ROI and grab the ROI dimensions\n",
        "  (fH, fW) = face.shape[:2]\n",
        "\n",
        "  # ensure the face width and height are sufficiently large\n",
        "  if fW < face_scale_thres[0] or fH < face_scale_thres[1]:\n",
        "    return None\n",
        "  else:\n",
        "    return face\n",
        "\n",
        "bbox = _extract_bbox(image)\n",
        "face = _extract_face(image, bbox)\n",
        "plt.axis(\"off\")\n",
        "plt.imshow(face)"
      ],
      "execution_count": 11,
      "outputs": [
        {
          "output_type": "execute_result",
          "data": {
            "text/plain": [
              "<matplotlib.image.AxesImage at 0x7fc4161304e0>"
            ]
          },
          "metadata": {
            "tags": []
          },
          "execution_count": 11
        },
        {
          "output_type": "display_data",
          "data": {
            "image/png": "[encoded data removed]",
            "text/plain": [
              "<Figure size 432x288 with 1 Axes>"
            ]
          },
          "metadata": {
            "tags": [],
            "needs_background": "light"
          }
        }
      ]
    },
    {
      "cell_type": "code",
      "metadata": {
        "id": "YA_S7XaaGPyT",
        "colab_type": "code",
        "outputId": "a744c4ad-a431-45ea-c82e-dfa544fb9d15",
        "colab": {
          "base_uri": "https://localhost:8080/",
          "height": 34
        }
      },
      "source": [
        "from imutils import paths\n",
        "DATASET_PATH = \"./Dataset\"\n",
        "\n",
        "def _model_processing(face_scale_thres = (20, 20)):\n",
        "  \"\"\"\n",
        "  face_scale_thres: Ngưỡng (W, H) để chấp nhận một khuôn mặt.\n",
        "  \"\"\"\n",
        "  image_links = list(paths.list_images(DATASET_PATH))\n",
        "  images_file = [] \n",
        "  y_labels = []\n",
        "  faces = []\n",
        "  total = 0\n",
        "  for image_link in image_links:\n",
        "    split_img_links = image_link.split(\"/\")\n",
        "    # Lấy nhãn của ảnh\n",
        "    name = split_img_links[-2] \n",
        "    # Đọc ảnh\n",
        "    image = _image_read(image_link)\n",
        "    (h, w) = image.shape[:2]\n",
        "    # Detect vị trí các khuôn mặt trên ảnh. Gỉa định rằng mỗi bức ảnh chỉ có duy nhất 1 khuôn mặt của chủ nhân classes.\n",
        "    bbox =_extract_bbox(image, single=True)\n",
        "    # print(bbox_ratio)\n",
        "    if bbox is not None:\n",
        "      # Lấy ra face\n",
        "      face = _extract_face(image, bbox, face_scale_thres = (20, 20))\n",
        "      if face is not None:\n",
        "        faces.append(face)\n",
        "        y_labels.append(name)\n",
        "        images_file.append(image_links)\n",
        "        total += 1\n",
        "      else:\n",
        "        next\n",
        "  print(\"Total bbox face extracted: {}\".format(total))\n",
        "  return faces, y_labels, images_file\n",
        "\n",
        "faces, y_labels, images_file = _model_processing()"
      ],
      "execution_count": 12,
      "outputs": [
        {
          "output_type": "stream",
          "text": [
            "Total bbox face extracted: 142\n"
          ],
          "name": "stdout"
        }
      ]
    },
    {
      "cell_type": "code",
      "metadata": {
        "id": "-seYYQrmGS6x",
        "colab_type": "code",
        "colab": {}
      },
      "source": [
        "import pickle\n",
        "\n",
        "def _save_pickle(obj, file_path):\n",
        "  with open(file_path, 'wb') as f:\n",
        "    pickle.dump(obj, f)\n",
        "\n",
        "def _load_pickle(file_path):\n",
        "  with open(file_path, 'rb') as f:\n",
        "    obj = pickle.load(f)\n",
        "  return obj\n",
        "\n",
        "_save_pickle(faces, \"./faces.pkl\")\n",
        "_save_pickle(y_labels, \"./y_labels.pkl\")\n",
        "_save_pickle(images_file, \"./images_file.pkl\")"
      ],
      "execution_count": 0,
      "outputs": []
    },
    {
      "cell_type": "code",
      "metadata": {
        "id": "Oj7s0vFUGU86",
        "colab_type": "code",
        "colab": {}
      },
      "source": [
        "def _embedding_faces(encoder, faces):\n",
        "  emb_vecs = []\n",
        "  for face in faces:\n",
        "    faceBlob = _blobImage(face, out_size = (96, 96), scaleFactor=1/255.0, mean=(0, 0, 0))\n",
        "    # Embedding face\n",
        "    encoder.setInput(faceBlob)\n",
        "    vec = encoder.forward()\n",
        "    emb_vecs.append(vec)\n",
        "  return emb_vecs\n",
        "\n",
        "embed_faces = _embedding_faces(encoder, faces)\n",
        "# Nhớ save embed_faces vào Dataset.\n",
        "_save_pickle(embed_faces, \"./embed_blob_faces.pkl\")"
      ],
      "execution_count": 0,
      "outputs": []
    },
    {
      "cell_type": "code",
      "metadata": {
        "id": "hthxvk1tGXTu",
        "colab_type": "code",
        "colab": {}
      },
      "source": [
        "embed_faces = _load_pickle(\"./embed_blob_faces.pkl\")\n",
        "y_labels = _load_pickle(\"./y_labels.pkl\")"
      ],
      "execution_count": 0,
      "outputs": []
    },
    {
      "cell_type": "code",
      "metadata": {
        "id": "EOjw6qLQGZOW",
        "colab_type": "code",
        "outputId": "f8829ec3-1495-424d-d89e-f7412fbadd57",
        "colab": {
          "base_uri": "https://localhost:8080/",
          "height": 51
        }
      },
      "source": [
        "from sklearn.model_selection import train_test_split\n",
        "ids = np.arange(len(y_labels))\n",
        "\n",
        "X_train, X_test, y_train, y_test, id_train, id_test = train_test_split(np.stack(embed_faces), y_labels, ids, test_size = 0.2, stratify = y_labels)\n",
        "X_train = np.squeeze(X_train, axis = 1)\n",
        "X_test = np.squeeze(X_test, axis = 1)\n",
        "print(X_train.shape, X_test.shape)\n",
        "print(len(y_train), len(y_test))"
      ],
      "execution_count": 16,
      "outputs": [
        {
          "output_type": "stream",
          "text": [
            "(113, 128) (29, 128)\n",
            "113 29\n"
          ],
          "name": "stdout"
        }
      ]
    },
    {
      "cell_type": "code",
      "metadata": {
        "id": "sDgVG88eGbWw",
        "colab_type": "code",
        "colab": {}
      },
      "source": [
        "_save_pickle(id_train, \"./id_train.pkl\")\n",
        "_save_pickle(id_test, \"./id_test.pkl\")"
      ],
      "execution_count": 0,
      "outputs": []
    },
    {
      "cell_type": "code",
      "metadata": {
        "id": "kLGZmjNkGe4k",
        "colab_type": "code",
        "outputId": "6fa54993-f6ad-43a5-8bf0-050525db51ab",
        "colab": {
          "base_uri": "https://localhost:8080/",
          "height": 34
        }
      },
      "source": [
        "from sklearn.metrics.pairwise import cosine_similarity\n",
        "\n",
        "def _most_similarity(embed_vecs, vec, labels):\n",
        "  sim = cosine_similarity(embed_vecs, vec)\n",
        "  sim = np.squeeze(sim, axis = 1)\n",
        "  argmax = np.argsort(sim)[::-1][:1]\n",
        "  label = [labels[idx] for idx in argmax][0]\n",
        "  return label\n",
        "\n",
        "# Lấy ngẫu nhiên một bức ảnh trong test\n",
        "vec = X_test[1].reshape(1, -1)\n",
        "# Tìm kiếm ảnh gần nhất\n",
        "_most_similarity(X_train, vec, y_train)"
      ],
      "execution_count": 18,
      "outputs": [
        {
          "output_type": "execute_result",
          "data": {
            "text/plain": [
              "'sontung'"
            ]
          },
          "metadata": {
            "tags": []
          },
          "execution_count": 18
        }
      ]
    },
    {
      "cell_type": "code",
      "metadata": {
        "id": "0KQf2l4rGhQk",
        "colab_type": "code",
        "outputId": "ff818199-61ef-46fc-987e-b7cb00240110",
        "colab": {
          "base_uri": "https://localhost:8080/",
          "height": 34
        }
      },
      "source": [
        "# def _acc_test(test_set, y_test):\n",
        "from sklearn.metrics import accuracy_score\n",
        "\n",
        "y_preds = []\n",
        "for vec in X_test:\n",
        "  vec = vec.reshape(1, -1)\n",
        "  y_pred = _most_similarity(X_train, vec, y_train)\n",
        "  y_preds.append(y_pred)\n",
        "\n",
        "print(accuracy_score(y_preds, y_test))"
      ],
      "execution_count": 19,
      "outputs": [
        {
          "output_type": "stream",
          "text": [
            "0.5172413793103449\n"
          ],
          "name": "stdout"
        }
      ]
    },
    {
      "cell_type": "code",
      "metadata": {
        "id": "xud9kTr7GknS",
        "colab_type": "code",
        "colab": {}
      },
      "source": [
        "%tensorflow_version 2.x"
      ],
      "execution_count": 0,
      "outputs": []
    },
    {
      "cell_type": "code",
      "metadata": {
        "id": "tSR5hpGpGnoV",
        "colab_type": "code",
        "outputId": "43dd6e32-2281-4810-98a4-3d35efa51db8",
        "colab": {
          "base_uri": "https://localhost:8080/",
          "height": 901
        }
      },
      "source": [
        "import tensorflow as tf\n",
        "from tensorflow.keras.layers import Dense, Lambda, Flatten\n",
        "from tensorflow.keras.models import Model\n",
        "from tensorflow.keras.optimizers import Adam\n",
        "from tensorflow.keras.applications import VGG16\n",
        "\n",
        "def _base_network():\n",
        "  model = VGG16(include_top = True, weights = None)\n",
        "  dense = Dense(128)(model.layers[-4].output)\n",
        "  norm2 = Lambda(lambda x: tf.math.l2_normalize(x, axis = 1))(dense)\n",
        "  model = Model(inputs = [model.input], outputs = [norm2])\n",
        "  return model\n",
        "\n",
        "model = _base_network()\n",
        "model.summary()"
      ],
      "execution_count": 21,
      "outputs": [
        {
          "output_type": "stream",
          "text": [
            "Model: \"model\"\n",
            "_________________________________________________________________\n",
            "Layer (type)                 Output Shape              Param #   \n",
            "=================================================================\n",
            "input_1 (InputLayer)         [(None, 224, 224, 3)]     0         \n",
            "_________________________________________________________________\n",
            "block1_conv1 (Conv2D)        (None, 224, 224, 64)      1792      \n",
            "_________________________________________________________________\n",
            "block1_conv2 (Conv2D)        (None, 224, 224, 64)      36928     \n",
            "_________________________________________________________________\n",
            "block1_pool (MaxPooling2D)   (None, 112, 112, 64)      0         \n",
            "_________________________________________________________________\n",
            "block2_conv1 (Conv2D)        (None, 112, 112, 128)     73856     \n",
            "_________________________________________________________________\n",
            "block2_conv2 (Conv2D)        (None, 112, 112, 128)     147584    \n",
            "_________________________________________________________________\n",
            "block2_pool (MaxPooling2D)   (None, 56, 56, 128)       0         \n",
            "_________________________________________________________________\n",
            "block3_conv1 (Conv2D)        (None, 56, 56, 256)       295168    \n",
            "_________________________________________________________________\n",
            "block3_conv2 (Conv2D)        (None, 56, 56, 256)       590080    \n",
            "_________________________________________________________________\n",
            "block3_conv3 (Conv2D)        (None, 56, 56, 256)       590080    \n",
            "_________________________________________________________________\n",
            "block3_pool (MaxPooling2D)   (None, 28, 28, 256)       0         \n",
            "_________________________________________________________________\n",
            "block4_conv1 (Conv2D)        (None, 28, 28, 512)       1180160   \n",
            "_________________________________________________________________\n",
            "block4_conv2 (Conv2D)        (None, 28, 28, 512)       2359808   \n",
            "_________________________________________________________________\n",
            "block4_conv3 (Conv2D)        (None, 28, 28, 512)       2359808   \n",
            "_________________________________________________________________\n",
            "block4_pool (MaxPooling2D)   (None, 14, 14, 512)       0         \n",
            "_________________________________________________________________\n",
            "block5_conv1 (Conv2D)        (None, 14, 14, 512)       2359808   \n",
            "_________________________________________________________________\n",
            "block5_conv2 (Conv2D)        (None, 14, 14, 512)       2359808   \n",
            "_________________________________________________________________\n",
            "block5_conv3 (Conv2D)        (None, 14, 14, 512)       2359808   \n",
            "_________________________________________________________________\n",
            "block5_pool (MaxPooling2D)   (None, 7, 7, 512)         0         \n",
            "_________________________________________________________________\n",
            "flatten (Flatten)            (None, 25088)             0         \n",
            "_________________________________________________________________\n",
            "dense (Dense)                (None, 128)               3211392   \n",
            "_________________________________________________________________\n",
            "lambda (Lambda)              (None, 128)               0         \n",
            "=================================================================\n",
            "Total params: 17,926,080\n",
            "Trainable params: 17,926,080\n",
            "Non-trainable params: 0\n",
            "_________________________________________________________________\n"
          ],
          "name": "stdout"
        }
      ]
    },
    {
      "cell_type": "code",
      "metadata": {
        "id": "iqxAiPWAGrjr",
        "colab_type": "code",
        "colab": {}
      },
      "source": [
        "faces = _load_pickle(\"./faces.pkl\")"
      ],
      "execution_count": 0,
      "outputs": []
    },
    {
      "cell_type": "code",
      "metadata": {
        "id": "C_GrPTFeGsbw",
        "colab_type": "code",
        "outputId": "fef49bb5-5ba4-4335-95b6-004f7eb69e62",
        "colab": {
          "base_uri": "https://localhost:8080/",
          "height": 34
        }
      },
      "source": [
        "import cv2\n",
        "\n",
        "faceResizes = []\n",
        "for face in faces:\n",
        "  face_rz = cv2.resize(face, (224, 224))\n",
        "  faceResizes.append(face_rz)\n",
        "\n",
        "X = np.stack(faceResizes)\n",
        "X.shape"
      ],
      "execution_count": 23,
      "outputs": [
        {
          "output_type": "execute_result",
          "data": {
            "text/plain": [
              "(142, 224, 224, 3)"
            ]
          },
          "metadata": {
            "tags": []
          },
          "execution_count": 23
        }
      ]
    },
    {
      "cell_type": "code",
      "metadata": {
        "id": "BY-XxcC3Gub5",
        "colab_type": "code",
        "outputId": "63676084-c648-4bff-bf11-1daf84b0171b",
        "colab": {
          "base_uri": "https://localhost:8080/",
          "height": 51
        }
      },
      "source": [
        "id_train = _load_pickle(\"./id_train.pkl\")\n",
        "id_test = _load_pickle(\"./id_test.pkl\")\n",
        "\n",
        "X_train, X_test = X[id_train], X[id_test]\n",
        "\n",
        "print(X_train.shape)\n",
        "print(X_test.shape)"
      ],
      "execution_count": 24,
      "outputs": [
        {
          "output_type": "stream",
          "text": [
            "(113, 224, 224, 3)\n",
            "(29, 224, 224, 3)\n"
          ],
          "name": "stdout"
        }
      ]
    },
    {
      "cell_type": "code",
      "metadata": {
        "id": "FKHISIQMGysX",
        "colab_type": "code",
        "colab": {}
      },
      "source": [
        "import tensorflow_addons as tfa\n",
        "\n",
        "model.compile(\n",
        "    optimizer=tf.keras.optimizers.Adam(0.001),\n",
        "    loss=tfa.losses.TripletSemiHardLoss())"
      ],
      "execution_count": 0,
      "outputs": []
    },
    {
      "cell_type": "code",
      "metadata": {
        "id": "70kEhVW1Gzsm",
        "colab_type": "code",
        "outputId": "e10e4dd1-a02e-4137-8596-e7f28db5cd6c",
        "colab": {
          "base_uri": "https://localhost:8080/",
          "height": 51
        }
      },
      "source": [
        "print(X_train.shape, len(y_train))\n",
        "\n",
        "gen_train = tf.data.Dataset.from_tensor_slices((X_train, y_train)).repeat().shuffle(1024).batch(32)\n",
        "gen_train"
      ],
      "execution_count": 26,
      "outputs": [
        {
          "output_type": "stream",
          "text": [
            "(113, 224, 224, 3) 113\n"
          ],
          "name": "stdout"
        },
        {
          "output_type": "execute_result",
          "data": {
            "text/plain": [
              "<BatchDataset shapes: ((None, 224, 224, 3), (None,)), types: (tf.uint8, tf.string)>"
            ]
          },
          "metadata": {
            "tags": []
          },
          "execution_count": 26
        }
      ]
    },
    {
      "cell_type": "code",
      "metadata": {
        "id": "5U6vK0agG1fk",
        "colab_type": "code",
        "outputId": "7b2fb553-f9a0-4a67-a9ee-fcd239b15203",
        "colab": {
          "base_uri": "https://localhost:8080/",
          "height": 34
        }
      },
      "source": [
        "history = model.fit(\n",
        "    gen_train,\n",
        "    steps_per_epoch = 50,\n",
        "    epochs=10)"
      ],
      "execution_count": 0,
      "outputs": [
        {
          "output_type": "stream",
          "text": [
            "Epoch 1/10\n"
          ],
          "name": "stdout"
        }
      ]
    },
    {
      "cell_type": "code",
      "metadata": {
        "id": "p_2keBfKG5Ep",
        "colab_type": "code",
        "colab": {}
      },
      "source": [
        "X_train_vec = model.predict(X_train)\n",
        "X_test_vec = model.predict(X_test)"
      ],
      "execution_count": 0,
      "outputs": []
    },
    {
      "cell_type": "code",
      "metadata": {
        "id": "Kn-OnEFFG7pI",
        "colab_type": "code",
        "colab": {}
      },
      "source": [
        "y_preds = []\n",
        "for vec in X_test_vec:\n",
        "  vec = vec.reshape(1, -1)\n",
        "  y_pred = _most_similarity(X_train_vec, vec, y_train)\n",
        "  y_preds.append(y_pred)\n",
        "\n",
        "print(accuracy_score(y_preds, y_test))"
      ],
      "execution_count": 0,
      "outputs": []
    },
    {
      "cell_type": "code",
      "metadata": {
        "id": "1HBXrdnlG_ff",
        "colab_type": "code",
        "colab": {}
      },
      "source": [
        "idx_diff = np.flatnonzero(np.array(y_preds) != np.array(y_test))\n",
        "\n",
        "fg, ax = plt.subplots(2, 5, figsize=(15, 8))\n",
        "fg.suptitle('Wrong predict images')\n",
        "\n",
        "for i in np.arange(2):\n",
        "  for j in np.arange(5):\n",
        "    ax[i, j].imshow(X_test[idx_diff[i + j + j*i]])\n",
        "    ax[i, j].set_xlabel('Transform '+str(i+j+j*i))\n",
        "    ax[i, j].axis('off')"
      ],
      "execution_count": 0,
      "outputs": []
    },
    {
      "cell_type": "code",
      "metadata": {
        "id": "pGFw2GO_sFpK",
        "colab_type": "code",
        "colab": {}
      },
      "source": [
        "def _most_similarity_idx(embed_vecs, vec, labels):\n",
        "  sim = cosine_similarity(embed_vecs, vec)\n",
        "  sim = np.squeeze(sim, axis = 1)\n",
        "  argmax = np.argsort(sim)[::-1][:1][0]\n",
        "  # label = [labels[idx] for idx in argmax][0]\n",
        "  return argmax\n",
        "\n",
        "# Lấy ra các bức ảnh gần nhất với các ảnh dự báo.\n",
        "nearest_idx = []\n",
        "for vec in X_test_vec:\n",
        "  vec = vec.reshape(1, -1)\n",
        "  argmax = _most_similarity_idx(X_train_vec, vec, y_train)\n",
        "  nearest_idx.append(argmax)\n",
        "\n",
        "# Lọc ra tiếp các ảnh bị dự báo sai.\n",
        "nearest_idx = [nearest_idx[idx] for idx in idx_diff]"
      ],
      "execution_count": 0,
      "outputs": []
    },
    {
      "cell_type": "code",
      "metadata": {
        "id": "tKZKUI9tMu35",
        "colab_type": "code",
        "colab": {}
      },
      "source": [
        "fg, ax = plt.subplots(2, 5, figsize=(15, 8))\n",
        "fg.suptitle('Nearest predict images')\n",
        "\n",
        "for i in np.arange(2):\n",
        "  for j in np.arange(5):\n",
        "    ax[i, j].imshow(X_train[nearest_idx[i + j + j*i]])\n",
        "    ax[i, j].set_xlabel('Transform '+str(i+j+j*i))\n",
        "    ax[i, j].axis('off')"
      ],
      "execution_count": 0,
      "outputs": []
    },
    {
      "cell_type": "code",
      "metadata": {
        "id": "Dver4qglMxZ5",
        "colab_type": "code",
        "colab": {}
      },
      "source": [
        "from tensorflow.keras.preprocessing.image import ImageDataGenerator\n",
        "\n",
        "datagen = ImageDataGenerator(\n",
        "    featurewise_center=True,\n",
        "    featurewise_std_normalization=True,\n",
        "    rotation_range=20,\n",
        "    width_shift_range=0.2,\n",
        "    height_shift_range=0.2,\n",
        "    horizontal_flip=True)\n",
        "\n",
        "datagen.fit(X_train)"
      ],
      "execution_count": 0,
      "outputs": []
    },
    {
      "cell_type": "code",
      "metadata": {
        "id": "L5DVIrnIM0SV",
        "colab_type": "code",
        "colab": {}
      },
      "source": [
        "no_batch = 0\n",
        "X_au = []\n",
        "y_au = []\n",
        "for i in np.arange(len(X_train)):\n",
        "  no_img = 0\n",
        "  for x in datagen.flow(np.expand_dims(X_train[i], axis = 0), batch_size = 1):\n",
        "    X_au.append(x[0])\n",
        "    y_au.append(y_train[i])\n",
        "    no_img += 1\n",
        "    if no_img == 5:\n",
        "      break"
      ],
      "execution_count": 0,
      "outputs": []
    },
    {
      "cell_type": "code",
      "metadata": {
        "id": "sZ_Dyqh-M13m",
        "colab_type": "code",
        "colab": {}
      },
      "source": [
        "import tensorflow_addons as tfa\n",
        "model2 = _base_network()\n",
        "\n",
        "model2.compile(\n",
        "    optimizer=tf.keras.optimizers.Adam(0.001),\n",
        "    loss=tfa.losses.TripletSemiHardLoss())"
      ],
      "execution_count": 0,
      "outputs": []
    },
    {
      "cell_type": "code",
      "metadata": {
        "id": "39WWxsxhM4Mz",
        "colab_type": "code",
        "colab": {}
      },
      "source": [
        "# Điều chỉnh tăng batch_size = 64\n",
        "gen_train2 = tf.data.Dataset.from_tensor_slices((X_au, y_au)).repeat().shuffle(1024).batch(64)\n",
        "gen_train2"
      ],
      "execution_count": 0,
      "outputs": []
    },
    {
      "cell_type": "code",
      "metadata": {
        "id": "m3OykfcqM7FW",
        "colab_type": "code",
        "colab": {}
      },
      "source": [
        "print(len(X_au), len(y_au))"
      ],
      "execution_count": 0,
      "outputs": []
    },
    {
      "cell_type": "code",
      "metadata": {
        "id": "JBCts3DDM7ol",
        "colab_type": "code",
        "colab": {}
      },
      "source": [
        "history = model2.fit(\n",
        "    gen_train2,\n",
        "    steps_per_epoch = 50,\n",
        "    epochs=20)"
      ],
      "execution_count": 0,
      "outputs": []
    },
    {
      "cell_type": "code",
      "metadata": {
        "id": "X2bhVQHoNBuh",
        "colab_type": "code",
        "colab": {}
      },
      "source": [
        "data_tf = ImageDataGenerator(\n",
        "    featurewise_center=True,\n",
        "    featurewise_std_normalization=True,\n",
        "    rotation_range=20,\n",
        "    # width_shift_range=0.2,\n",
        "    # height_shift_range=0.2,\n",
        "    horizontal_flip=True\n",
        "    )\n",
        "\n",
        "data_tf.fit(X_test)\n",
        "\n",
        "no_batch = 0\n",
        "X_test_tf = []\n",
        "for i in np.arange(len(X_test)):\n",
        "  no_img = 0\n",
        "  for x in data_tf.flow(np.expand_dims(X_test[i], axis = 0), batch_size = 1):\n",
        "    X_test_tf.append(x[0])\n",
        "    no_img += 1\n",
        "    if no_img == 1:\n",
        "      break"
      ],
      "execution_count": 0,
      "outputs": []
    },
    {
      "cell_type": "code",
      "metadata": {
        "id": "5DVTYsGCNCYn",
        "colab_type": "code",
        "colab": {}
      },
      "source": [
        "X_train_vec = model2.predict(np.stack(X_au))\n",
        "X_test_vec = model2.predict(np.stack(X_test_tf))"
      ],
      "execution_count": 0,
      "outputs": []
    },
    {
      "cell_type": "code",
      "metadata": {
        "id": "1nKedzklND8s",
        "colab_type": "code",
        "colab": {}
      },
      "source": [
        "y_preds = []\n",
        "for vec in X_test_vec:\n",
        "  vec = vec.reshape(1, -1)\n",
        "  y_pred = _most_similarity(X_train_vec, vec, y_au)\n",
        "  y_preds.append(y_pred)\n",
        "\n",
        "print(accuracy_score(y_preds, y_test))"
      ],
      "execution_count": 0,
      "outputs": []
    },
    {
      "cell_type": "code",
      "metadata": {
        "id": "ZZendt5lNMHn",
        "colab_type": "code",
        "colab": {}
      },
      "source": [
        "def _normalize_image(image, epsilon=0.000001):\n",
        "  means = np.mean(image.reshape(-1, 3), axis=0)\n",
        "  stds = np.std(image.reshape(-1, 3), axis=0)\n",
        "  image_norm = image - means\n",
        "  image_norm = image_norm/(stds + epsilon)\n",
        "  return image_norm"
      ],
      "execution_count": 0,
      "outputs": []
    },
    {
      "cell_type": "code",
      "metadata": {
        "id": "yll1Uj_2NOcW",
        "colab_type": "code",
        "colab": {}
      },
      "source": [
        "IMAGE_OUTPUT = \"./predictions.jpg\"\n",
        "IMAGE_PREDICT = \"./test1.jpg\"\n",
        "\n",
        "# Trích xuất bbox image \n",
        "image = _image_read(IMAGE_PREDICT)\n",
        "# imageBlob = _blobImage(image)\n",
        "bboxs = _extract_bbox(image, single=False)\n",
        "# print(len(bboxs))\n",
        "faces = []\n",
        "for bbox in bboxs:\n",
        "  face = _extract_face(image, bbox, face_scale_thres = (20, 20))\n",
        "  # face = face.copy()\n",
        "  faces.append(face)\n",
        "  try:\n",
        "    face_rz = cv2.resize(face, (224, 224))\n",
        "    # Chuẩn hóa ảnh bằng hàm _normalize_image\n",
        "    face_tf = _normalize_image(face_rz)\n",
        "    face_tf = np.expand_dims(face_tf, axis = 0)\n",
        "    # Embedding face\n",
        "    vec = model2.predict(face_tf)\n",
        "    # Tìm kiếm ảnh gần nhất\n",
        "    name = _most_similarity(X_train_vec, vec, y_au)\n",
        "    # Tìm kiếm các bbox\n",
        "    (startY, startX, endY, endX) = bbox\n",
        "    minX, maxX = min(startX, endX), max(startX, endX)\n",
        "    minY, maxY = min(startY, endY), max(startY, endY)\n",
        "    pred_proba=0.891\n",
        "    text = \"{}: {:.2f}%\".format(name, pred_proba * 100)\n",
        "    y = startY - 10 if startY - 10 > 10 else startY + 10\n",
        "    cv2.rectangle(image, (minX, minY), (maxX, maxY), (0, 0, 255), 2)\n",
        "    cv2.putText(image, text, (minX, y),\n",
        "      cv2.FONT_HERSHEY_SIMPLEX, 0.7, (0, 0, 255), 2)\n",
        "  except:\n",
        "      print(\"Not found face\")\n",
        "cv2.imwrite(IMAGE_OUTPUT, image)\n",
        "\n",
        "\n",
        "# import matplotlib.pyplot as plt\n",
        "\n",
        "plt.figure(figsize = (16, 8))\n",
        "img = plt.imread(IMAGE_OUTPUT)\n",
        "plt.imshow(img)"
      ],
      "execution_count": 0,
      "outputs": []
    }
  ]
}