{
  "nbformat": 4,
  "nbformat_minor": 0,
  "metadata": {
    "colab": {
      "name": "Course 18.065 Lesson 1 .ipynb",
      "version": "0.3.2",
      "provenance": [],
      "collapsed_sections": [],
      "include_colab_link": true
    },
    "kernelspec": {
      "name": "python3",
      "display_name": "Python 3"
    }
  },
  "cells": [
    {
      "cell_type": "markdown",
      "metadata": {
        "id": "view-in-github",
        "colab_type": "text"
      },
      "source": [
        "<a href=\"https://colab.research.google.com/github/nguyenhieuec/Course_18_065/blob/master/Course_18_065_Lesson_1_.ipynb\" target=\"_parent\"><img src=\"https://colab.research.google.com/assets/colab-badge.svg\" alt=\"Open In Colab\"/></a>"
      ]
    },
    {
      "cell_type": "markdown",
      "metadata": {
        "id": "0NbPlz4eCX2X",
        "colab_type": "text"
      },
      "source": [
        "This notebook is try to give you a sense of math in python. This notebook is follow along with [Course 18.065 by Professor Strang](https://www.youtube.com/watch?v=Cx5Z-OslNWE)\n",
        "</br >Usage tips:\n",
        "1. You can use any programming language as you wish to follow the video guide.\n",
        "2. Feel the math ideas behind it. Not the code.\n",
        "\n",
        "@Author : Hieu Nguyen Vu Trung. Email: hieu.nguyen2018@qcf.jvn.edu.vn"
      ]
    },
    {
      "cell_type": "markdown",
      "metadata": {
        "id": "wJPkl6OIvNqL",
        "colab_type": "text"
      },
      "source": [
        "1. Create a matrix A"
      ]
    },
    {
      "cell_type": "code",
      "metadata": {
        "id": "jwGZifV8CVMR",
        "colab_type": "code",
        "colab": {
          "base_uri": "https://localhost:8080/",
          "height": 85
        },
        "outputId": "fd375215-987d-4f70-b9e0-f65ed531cfa9"
      },
      "source": [
        "import numpy as np\n",
        "# import matplotlib.pyplot as plt\n",
        "# import scipy as sp\n",
        "# from scipy.linalg import lu\n",
        "# from mpl_toolkits.mplot3d import Axes3D\n",
        "# %matplotlib inline\n",
        "\n",
        "\n",
        "A = np.matrix([[2,1,3],[3,1,4],[5,7,12]])\n",
        "print(A)\n",
        "print(type(A))"
      ],
      "execution_count": 24,
      "outputs": [
        {
          "output_type": "stream",
          "text": [
            "[[ 2  1  3]\n",
            " [ 3  1  4]\n",
            " [ 5  7 12]]\n",
            "<class 'numpy.matrix'>\n"
          ],
          "name": "stdout"
        }
      ]
    },
    {
      "cell_type": "markdown",
      "metadata": {
        "id": "6YTMf-Z2xJr7",
        "colab_type": "text"
      },
      "source": [
        "At this point you got matrix A, but the computer can not have a undefine variable likes ${x_{1}}$,${x_{2}}$, $x_3$ etc so to demo I wll take the closet way to present $x$ variable so we'll get a random $x$ for each time we run the cell.\n",
        "\n",
        "$\\left[ \\begin{array}{ccc}{2} & {1} & {3} \\\\ {3} & {1} & {4} \\\\ {5} & {7} & {12}\\end{array}\\right] \\left[ \\begin{array}{l}{x_{1}} \\\\ {x_{2}} \\\\ {x_{3}}\\end{array}\\right]$"
      ]
    },
    {
      "cell_type": "code",
      "metadata": {
        "id": "PcKHO15jvkRi",
        "colab_type": "code",
        "colab": {
          "base_uri": "https://localhost:8080/",
          "height": 68
        },
        "outputId": "4fcb1d95-e909-4848-91d4-4ea93d084a25"
      },
      "source": [
        "# Set a seed to easy to follow.\n",
        "np.random.seed(2019) \n",
        "X = np.matrix(np.random.randint(10,size=(3,1)))\n",
        "print(X)"
      ],
      "execution_count": 28,
      "outputs": [
        {
          "output_type": "stream",
          "text": [
            "[[8]\n",
            " [2]\n",
            " [5]]\n"
          ],
          "name": "stdout"
        }
      ]
    },
    {
      "cell_type": "markdown",
      "metadata": {
        "id": "lmcQ0Z0800yE",
        "colab_type": "text"
      },
      "source": [
        "So we have the column space is $C(A)$ that is \n",
        "$C(A_{1})$, and $C(A_{2})$ cause when we sum the first two column we get $C(A_{3})$ so that this column is not independent."
      ]
    },
    {
      "cell_type": "code",
      "metadata": {
        "id": "yaG3Ohn90G3B",
        "colab_type": "code",
        "colab": {
          "base_uri": "https://localhost:8080/",
          "height": 170
        },
        "outputId": "0842a6b9-d8ad-452c-8f62-69752fcc1427"
      },
      "source": [
        "print(A[:,0])\n",
        "print(A[:,1])\n",
        "\n",
        "print(A[:,0] + A[:,1])"
      ],
      "execution_count": 29,
      "outputs": [
        {
          "output_type": "stream",
          "text": [
            "[[2]\n",
            " [3]\n",
            " [5]]\n",
            "[[1]\n",
            " [1]\n",
            " [7]]\n",
            "[[ 3]\n",
            " [ 4]\n",
            " [12]]\n"
          ],
          "name": "stdout"
        }
      ]
    },
    {
      "cell_type": "markdown",
      "metadata": {
        "id": "_m0fQ9du25HH",
        "colab_type": "text"
      },
      "source": [
        "In fact we all do dot product in This way. $A$ rows dot product with $X$\n",
        "\n",
        "So please keep this idea in mind before we move on. We now see it as a Vector-wise like this one.\n",
        "</br>\n",
        "$x_{1} \\left[ \\begin{array}{l}{2} \\\\ {3} \\\\ {5}\\end{array}\\right]+ x_{2} \\left[ \\begin{array}{l}{1} \\\\ {1} \\\\ {7}\\end{array}\\right]+x_{3} \\left[\\begin{array}{l}{3} \\\\ {4} \\\\ {12}\\end{array}\\right]$\n",
        "</br>\n"
      ]
    },
    {
      "cell_type": "code",
      "metadata": {
        "id": "RwAlzYjk2IcY",
        "colab_type": "code",
        "colab": {
          "base_uri": "https://localhost:8080/",
          "height": 119
        },
        "outputId": "6ef55032-bcbc-420f-9a4c-aefc9be48dd6"
      },
      "source": [
        "print(A.dot(X)) # Normal way\n",
        "\n",
        "# This will help you know about take a value out of the matrix\n",
        "\n",
        "print(A[0,0]*X[0] + A[0,1]*X[1] + A[0,2]*X[2])\n",
        "print(A[1,0]*X[0] + A[1,1]*X[1] + A[1,2]*X[2])\n",
        "print(A[2,0]*X[0] + A[2,1]*X[1] + A[2,2]*X[2])"
      ],
      "execution_count": 39,
      "outputs": [
        {
          "output_type": "stream",
          "text": [
            "[[ 33]\n",
            " [ 46]\n",
            " [114]]\n",
            "[[33]]\n",
            "[[46]]\n",
            "[[114]]\n"
          ],
          "name": "stdout"
        }
      ]
    },
    {
      "cell_type": "markdown",
      "metadata": {
        "id": "WoDy-nsz78V6",
        "colab_type": "text"
      },
      "source": [
        "Rank of matrix.\n",
        "\n",
        "Noted: this a matrix present a line in $R^{3}$ space\n",
        "\n",
        "$\\left[ \\begin{array}{ccc}{1} & {3} & {8} \\\\ {1} & {3} & {8} \\\\ {1} & {3} & {8}\\end{array}\\right] $ = $\\left[ \\begin{array}{l}{1} \\\\ {1} \\\\ {1}\\end{array}\\right] \\left[ \\begin{array}{ccc}{1} & {3} & {8} \\end{array}\\right]$"
      ]
    },
    {
      "cell_type": "code",
      "metadata": {
        "id": "sf2zbfPp5dcs",
        "colab_type": "code",
        "colab": {
          "base_uri": "https://localhost:8080/",
          "height": 34
        },
        "outputId": "47f52ddd-319b-4f86-dbb5-26e68f089d8c"
      },
      "source": [
        "B = np.matrix([[1,3,8],[1,3,8],[1,3,8]])\n",
        "\n",
        "np.linalg.matrix_rank(B)"
      ],
      "execution_count": 3,
      "outputs": [
        {
          "output_type": "execute_result",
          "data": {
            "text/plain": [
              "1"
            ]
          },
          "metadata": {
            "tags": []
          },
          "execution_count": 3
        }
      ]
    },
    {
      "cell_type": "markdown",
      "metadata": {
        "id": "oSZ1XA-jxF1T",
        "colab_type": "text"
      },
      "source": [
        "Now you know that the $C(A)$ (column space) is a plane and the basis literarily is a set of column which independent in the column space.\n",
        "\n",
        "Consider the matrix A:\n",
        "\n",
        "$\\left[ \\begin{array}{ccc}{2} & {1} & {3} \\\\ {3} & {1} & {4} \\\\ {5} & {7} & {12}\\end{array}\\right] $\n",
        "\n",
        "We have two independent column is \n",
        "\n",
        "$\\left[ \\begin{array}{cc}{2} & {1}  \\\\ {3} & {1} \\\\ {5} & {7} \\end{array}\\right] $ "
      ]
    },
    {
      "cell_type": "code",
      "metadata": {
        "id": "iy1lHTSd_8t3",
        "colab_type": "code",
        "colab": {
          "base_uri": "https://localhost:8080/",
          "height": 68
        },
        "outputId": "a2dc6fa1-41bf-4750-87d4-4ec7c701b5bf"
      },
      "source": [
        "C = indA = A[:,[0,1]]\n",
        "print(indA)"
      ],
      "execution_count": 33,
      "outputs": [
        {
          "output_type": "stream",
          "text": [
            "[[2 1]\n",
            " [3 1]\n",
            " [5 7]]\n"
          ],
          "name": "stdout"
        }
      ]
    },
    {
      "cell_type": "markdown",
      "metadata": {
        "id": "nmRSxRQ8zEbW",
        "colab_type": "text"
      },
      "source": [
        "The number of independent column also is the rank of the matrix"
      ]
    },
    {
      "cell_type": "code",
      "metadata": {
        "id": "UmbimTjIzLyx",
        "colab_type": "code",
        "colab": {
          "base_uri": "https://localhost:8080/",
          "height": 34
        },
        "outputId": "de6bbec1-3c6d-4ca7-f5f4-2da8c0b5283e"
      },
      "source": [
        "np.linalg.matrix_rank(A)"
      ],
      "execution_count": 34,
      "outputs": [
        {
          "output_type": "execute_result",
          "data": {
            "text/plain": [
              "2"
            ]
          },
          "metadata": {
            "tags": []
          },
          "execution_count": 34
        }
      ]
    },
    {
      "cell_type": "markdown",
      "metadata": {
        "id": "LVEKRDTtz1vh",
        "colab_type": "text"
      },
      "source": [
        "Now we come to matrix factorization. \n",
        "\n",
        "$\\left[ \\begin{array}{ccc}{2} & {1} & {3} \\\\ {3} & {1} & {4} \\\\ {5} & {7} & {12}\\end{array}\\right] $ =  $\\left[ \\begin{array}{cc}{2} & {1}  \\\\ {3} & {1} \\\\ {5} & {7} \\end{array}\\right] $ x $\\left[ \\begin{array}{cc}{1} & {0} & {1} \\\\ {0} & {1} & {1}\\end{array}\\right]$\n",
        "\n",
        "This is the form of $A = C \\cdot R $\n",
        "\n",
        "$C$ is the matrix with 2 independent column 3 rows, we have a $C(m,n)$ with $m$ is a rows and $m = 3$, $n = 2$ so $C(3,2)$ we need multiply $C$ with matrix $R(2,3)$ to get back matrix $A(3,3)$\n",
        "\n",
        "\n",
        "\n",
        "Noted: In case you don't know why google with keyword \" matrix multiplication \""
      ]
    },
    {
      "cell_type": "code",
      "metadata": {
        "id": "TGeqE-peGFxw",
        "colab_type": "code",
        "colab": {
          "base_uri": "https://localhost:8080/",
          "height": 51
        },
        "outputId": "cd38724f-ad8c-4d54-ab24-7536e248bd5f"
      },
      "source": [
        "R = np.matrix([[1,0,1],[0,1,1]])\n",
        "print(R)"
      ],
      "execution_count": 39,
      "outputs": [
        {
          "output_type": "stream",
          "text": [
            "[[1 0 1]\n",
            " [0 1 1]]\n"
          ],
          "name": "stdout"
        }
      ]
    },
    {
      "cell_type": "markdown",
      "metadata": {
        "id": "xZPQhopzJgd0",
        "colab_type": "text"
      },
      "source": [
        "Now we have $C$ is a basis for the column space and $R$ is basis for the row space.\n",
        "\n",
        "The row space is equal to the transpose of column space $C(A^{T})$. \n",
        "\n",
        "We can check the basis by definition of it:\n",
        "\n",
        "\n",
        "*   $R$ is linearly independent.\n",
        "*   $ R$ is a spanning set. (like the prof said, this mean the combination of vector in $R$ is all the rows in $A$)\n",
        "\n"
      ]
    },
    {
      "cell_type": "code",
      "metadata": {
        "id": "Ae0ZdKAJIwsp",
        "colab_type": "code",
        "colab": {
          "base_uri": "https://localhost:8080/",
          "height": 51
        },
        "outputId": "354fdd1f-403d-4e09-a559-e1fbe4b866f4"
      },
      "source": [
        "print(C[0,:])\n",
        "print(C[0,:].dot(R))"
      ],
      "execution_count": 38,
      "outputs": [
        {
          "output_type": "stream",
          "text": [
            "[[2 1]]\n",
            "[[2 1 3]]\n"
          ],
          "name": "stdout"
        }
      ]
    },
    {
      "cell_type": "code",
      "metadata": {
        "id": "4WWjYxtUSC80",
        "colab_type": "code",
        "colab": {}
      },
      "source": [
        ""
      ],
      "execution_count": 0,
      "outputs": []
    },
    {
      "cell_type": "markdown",
      "metadata": {
        "id": "_ot3f44zNENo",
        "colab_type": "text"
      },
      "source": [
        "Noted: The column space of the matrix has another name is the range of the matrix."
      ]
    },
    {
      "cell_type": "markdown",
      "metadata": {
        "id": "87pNx34hOEfQ",
        "colab_type": "text"
      },
      "source": [
        "Random sampling matrix. \n",
        "\n",
        "$Ax$ with $x$ is a random matrix $x(m,1)$  so $Ax$ is in column space."
      ]
    },
    {
      "cell_type": "code",
      "metadata": {
        "id": "eyUbcWtkI5p6",
        "colab_type": "code",
        "colab": {}
      },
      "source": [
        "# This still not working yet but the idea is it.\n",
        "# def samplingmatrix(A,n,rangeRnd=10):\n",
        "#   \"\"\"input @param n: The number column of the matrix output\n",
        "#            @param A: The base matrix to sampling. \n",
        "#            @param rangeRnd: the range of random function take in. @Default is 10\n",
        "#      local @param x: random matrix x(m,1) with m rows and 1 column \n",
        "#            @param m: number of row of matrix\n",
        "#            @param matrix: output matrix\n",
        "#      output: The sample matrix follow the lecture.\n",
        "#   \"\"\"\n",
        "#   m = A.shape[0]\n",
        "#   B = []\n",
        "  \n",
        "#   for i in range(0,n):\n",
        "#     x = np.matrix(np.random.randint(rangeRnd,size=(m,1)))\n",
        "#     tmp = np.matrix(A.dot(x))\n",
        "#     print(tmp)\n",
        "#     print(tmp.shape,B.shape)\n",
        "#     np.hstack((B,tmp))\n",
        "#     print(B)\n",
        "#   return B"
      ],
      "execution_count": 0,
      "outputs": []
    },
    {
      "cell_type": "markdown",
      "metadata": {
        "id": "UrT2DpKAdjMa",
        "colab_type": "text"
      },
      "source": [
        "The rest are about matrix mutiplication and math idea I will updated if I have a idea I can code :D."
      ]
    }
  ]
}